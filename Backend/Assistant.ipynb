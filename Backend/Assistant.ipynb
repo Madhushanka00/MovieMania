{
 "cells": [
  {
   "cell_type": "code",
   "execution_count": 4,
   "metadata": {},
   "outputs": [
    {
     "name": "stdout",
     "output_type": "stream",
     "text": [
      "Note: you may need to restart the kernel to use updated packages.\n"
     ]
    },
    {
     "name": "stderr",
     "output_type": "stream",
     "text": [
      "\n",
      "[notice] A new release of pip is available: 24.0 -> 24.2\n",
      "[notice] To update, run: C:\\Users\\Mahesha\\AppData\\Local\\Microsoft\\WindowsApps\\PythonSoftwareFoundation.Python.3.11_qbz5n2kfra8p0\\python.exe -m pip install --upgrade pip\n"
     ]
    }
   ],
   "source": [
    "%pip install -q -U google-generativeai "
   ]
  },
  {
   "cell_type": "code",
   "execution_count": 12,
   "metadata": {},
   "outputs": [],
   "source": [
    "import google.generativeai as genai\n",
    "import os\n",
    "from dotenv import load_dotenv\n",
    "\n",
    "load_dotenv()\n",
    "\n",
    "genai.configure(api_key=os.environ.get(\"GEMINI_API_KEY\"))"
   ]
  },
  {
   "cell_type": "code",
   "execution_count": 14,
   "metadata": {},
   "outputs": [
    {
     "name": "stdout",
     "output_type": "stream",
     "text": [
      "Please tell me more about what you're looking for! I need some information to give you a good recommendation.  \n",
      "\n",
      "For example, tell me:\n",
      "\n",
      "* **What kind of movies do you usually enjoy?** (e.g., action, comedy, drama, sci-fi, horror, romance, etc.)\n",
      "* **What are some of your favorite movies?**\n",
      "* **Are there any actors or directors you particularly like?**\n",
      "* **Are you looking for something new or a classic?**\n",
      "* **What streaming services do you have access to?**\n",
      "\n",
      "The more information you give me, the better I can tailor a recommendation to your tastes. 😊 \n",
      "\n"
     ]
    }
   ],
   "source": [
    "model = genai.GenerativeModel(\"gemini-1.5-flash\")\n",
    "response = model.generate_content(\"give me a movie recommendation\")\n",
    "print(response.text)"
   ]
  },
  {
   "cell_type": "code",
   "execution_count": 1,
   "metadata": {},
   "outputs": [],
   "source": [
    "import pickle\n"
   ]
  },
  {
   "cell_type": "code",
   "execution_count": 6,
   "metadata": {},
   "outputs": [
    {
     "data": {
      "text/html": [
       "<div>\n",
       "<style scoped>\n",
       "    .dataframe tbody tr th:only-of-type {\n",
       "        vertical-align: middle;\n",
       "    }\n",
       "\n",
       "    .dataframe tbody tr th {\n",
       "        vertical-align: top;\n",
       "    }\n",
       "\n",
       "    .dataframe thead th {\n",
       "        text-align: right;\n",
       "    }\n",
       "</style>\n",
       "<table border=\"1\" class=\"dataframe\">\n",
       "  <thead>\n",
       "    <tr style=\"text-align: right;\">\n",
       "      <th></th>\n",
       "      <th>movie_id</th>\n",
       "      <th>title</th>\n",
       "      <th>tags</th>\n",
       "    </tr>\n",
       "  </thead>\n",
       "  <tbody>\n",
       "    <tr>\n",
       "      <th>0</th>\n",
       "      <td>19995</td>\n",
       "      <td>Avatar</td>\n",
       "      <td>in the 22nd century, a parapleg marin is dispa...</td>\n",
       "    </tr>\n",
       "    <tr>\n",
       "      <th>1</th>\n",
       "      <td>285</td>\n",
       "      <td>Pirates of the Caribbean: At World's End</td>\n",
       "      <td>captain barbossa, long believ to be dead, ha c...</td>\n",
       "    </tr>\n",
       "    <tr>\n",
       "      <th>2</th>\n",
       "      <td>206647</td>\n",
       "      <td>Spectre</td>\n",
       "      <td>a cryptic messag from bond’ past send him on a...</td>\n",
       "    </tr>\n",
       "    <tr>\n",
       "      <th>3</th>\n",
       "      <td>49026</td>\n",
       "      <td>The Dark Knight Rises</td>\n",
       "      <td>follow the death of district attorney harvey d...</td>\n",
       "    </tr>\n",
       "    <tr>\n",
       "      <th>4</th>\n",
       "      <td>49529</td>\n",
       "      <td>John Carter</td>\n",
       "      <td>john carter is a war-weary, former militari ca...</td>\n",
       "    </tr>\n",
       "  </tbody>\n",
       "</table>\n",
       "</div>"
      ],
      "text/plain": [
       "   movie_id                                     title  \\\n",
       "0     19995                                    Avatar   \n",
       "1       285  Pirates of the Caribbean: At World's End   \n",
       "2    206647                                   Spectre   \n",
       "3     49026                     The Dark Knight Rises   \n",
       "4     49529                               John Carter   \n",
       "\n",
       "                                                tags  \n",
       "0  in the 22nd century, a parapleg marin is dispa...  \n",
       "1  captain barbossa, long believ to be dead, ha c...  \n",
       "2  a cryptic messag from bond’ past send him on a...  \n",
       "3  follow the death of district attorney harvey d...  \n",
       "4  john carter is a war-weary, former militari ca...  "
      ]
     },
     "execution_count": 6,
     "metadata": {},
     "output_type": "execute_result"
    }
   ],
   "source": [
    "with open('../MLmodels/Exports/movie_list.pkl', 'rb') as file:\n",
    "    # Backend\\Assistant.ipynb\n",
    "    # MLmodels\\Exports\n",
    "    new_df = pickle.load(file)\n",
    "\n",
    "new_df.head()"
   ]
  },
  {
   "cell_type": "code",
   "execution_count": 1,
   "metadata": {},
   "outputs": [],
   "source": [
    "exampletext ='''Here are some popular Spanish movies and TV series:\n",
    "\n",
    "**Movies:**\n",
    "\n",
    "* **Pan's Labyrinth (2006)** - Directed by Guillermo del Toro, this dark fantasy film tells the story of a young girl who escapes the horrors of the Spanish Civil War by seeking refuge in a magical world.\n",
    "* **The Others (2001)** - A chilling horror film directed by Alejandro Amenábar, starring Nicole Kidman as a woman who lives in a darkened old house with her two photosensitive children. They are haunted by mysterious events that unravel a terrifying secret.\n",
    "* **Talk to Her (2002)** - Another masterpiece by Alejandro Amenábar, this romantic drama explores the connection between two men who both fall in love with women in comas.\n",
    "* **Vicky Cristina Barcelona (2008)** - This Woody Allen film starring Scarlett Johansson, Penélope Cruz, and Javier Bardem follows two American friends on a trip to Barcelona where they encounter a passionate Spanish artist.\n",
    "* **The Skin I Live In (2011)** - A psychological thriller directed by Pedro Almodóvar, this film follows a brilliant plastic surgeon who seeks revenge on those who wronged him in the past.\n",
    "\n",
    "**TV Series:**\n",
    "\n",
    "* **Money Heist (La Casa de Papel)** - A gripping crime drama about a group of thieves who plan an elaborate heist of the Royal Mint of Spain.\n",
    "* **Elite** - A teen drama set in an exclusive private school, exploring themes of wealth, privilege, and social injustice.  \n",
    "* **The Time in Between** - A historical drama set in the 1930s and 1940s, following the story of a young woman caught in the midst of the Spanish Civil War.\n",
    "* **Cable Girls (Las Chicas del Cable)** - A period drama set in 1920s Madrid, focusing on the lives of four women working as telephone operators.\n",
    "* **Gran Hotel** - A Spanish period drama set in a grand hotel in the 1900s, full of intrigue, mystery, and romance.\n",
    "\n",
    "These are just a few of the many great Spanish movies and TV series out there. Let me know if you have any other questions!  \n",
    "\n",
    "Here are some popular Spanish movies and TV series:\n",
    "\n",
    "**Movies:**\n",
    "\n",
    "* **Pan's Labyrinth (2006)** - Directed by Guillermo del Toro, this dark fantasy film tells the story of a young girl who escapes the horrors of the Spanish Civil War by seeking refuge in a magical world.\n",
    "* **The Others (2001)** - A chilling horror film directed by Alejandro Amenábar, starring Nicole Kidman as a woman who lives in a darkened old house with her two photosensitive children. They are haunted by mysterious events that unravel a terrifying secret.\n",
    "* **Talk to Her (2002)** - Another masterpiece by Alejandro Amenábar, this romantic drama explores the connection between two men who both fall in love with women in comas.\n",
    "* **Vicky Cristina Barcelona (2008)** - This Woody Allen film starring Scarlett Johansson, Penélope Cruz, and Javier Bardem follows two American friends on a trip to Barcelona where they encounter a passionate Spanish artist.\n",
    "* **The Skin I Live In (2011)** - A psychological thriller directed by Pedro Almodóvar, this film follows a brilliant plastic surgeon who seeks revenge on those who wronged him in the past.\n",
    "\n",
    "**TV Series:**\n",
    "\n",
    "* **Money Heist (La Casa de Papel)** - A gripping crime drama about a group of thieves who plan an elaborate heist of the Royal Mint of Spain.\n",
    "* **Elite** - A teen drama set in an exclusive private school, exploring themes of wealth, privilege, and social injustice.  \n",
    "* **The Time in Between** - A historical drama set in the 1930s and 1940s, following the story of a young woman caught in the midst of the Spanish Civil War.\n",
    "* **Cable Girls (Las Chicas del Cable)** - A period drama set in 1920s Madrid, focusing on the lives of four women working as telephone operators.\n",
    "* **Gran Hotel** - A Spanish period drama set in a grand hotel in the 1900s, full of intrigue, mystery, and romance.\n",
    "\n",
    "These are just a few of the many great Spanish movies and TV series out there. Let me know if you have any other questions!'''"
   ]
  },
  {
   "cell_type": "code",
   "execution_count": 4,
   "metadata": {},
   "outputs": [],
   "source": [
    "import re\n",
    "def formatTxtx(movie_input): # neeed to imporve this function\n",
    "    # Handle input strings by converting them to a common format\n",
    "    if isinstance(movie_input, str):\n",
    "        tempFormatedarr =[]\n",
    "        formatted_movies =[]\n",
    "        # formatted_movies = [re.sub(r'\\s*\\(\\d{4}\\)', '', movie) for movie in movie_input]\n",
    "        # Remove curly braces or brackets if any\n",
    "        movie_input = movie_input.replace(\"{\", \"\").replace(\"}\", \"\")\n",
    "        movie_input = movie_input.replace(\"[\", \"\").replace(\"]\", \"\")\n",
    "        \n",
    "        # Split the string by commas but keep the parentheses together\n",
    "        # movies = re.findall(r'\"([^\"]+)\"|\\(([^)]+)\\)', movie_input)\n",
    "        # tempFormatedarr = [m[0] if m[0] else m[1] for m in movies]\n",
    "        movies = re.split(r',\\s*', movie_input)\n",
    "        for item in movies:\n",
    "            formatted_movies.append(re.sub(r'\\s*\\(\\d{4}\\)', '', item))\n",
    "        # Split the string into movie titles\n",
    "        movie_titles = re.split(r',\\s*', movie_input)\n",
    "        \n",
    "        # Remove any leading or trailing quotes\n",
    "        movie_titles = [title.strip('\"\\'' ) for title in movie_titles]\n",
    "        \n",
    "    elif isinstance(movie_input, list) or isinstance(movie_input, set):\n",
    "        tempFormatedarr =[]\n",
    "        for item in movie_input:\n",
    "        # If it's already a list or set, we just need to format it properly\n",
    "            tempFormatedarr.append(re.sub(r'\\s*\\(\\d{4}\\)', '', item))\n",
    "        # print('already a list or set, we just need to format it properly')\n",
    "        formatted_movies = tempFormatedarr\n",
    "        \n",
    "    else:\n",
    "        raise ValueError(\"Unsupported input type\")\n",
    "    \n",
    "    # formatted_movies = [re.sub(r'\\s*\\(\\d{4}\\)', '', movie) for movie in formatted_movies]\n",
    "\n",
    "    \n",
    "    return formatted_movies"
   ]
  },
  {
   "cell_type": "code",
   "execution_count": 5,
   "metadata": {},
   "outputs": [
    {
     "name": "stdout",
     "output_type": "stream",
     "text": [
      "[\"Here are some popular Spanish movies and TV series:\\n\\n**Movies:**\\n\\n* **Pan's Labyrinth** - Directed by Guillermo del Toro\", 'this dark fantasy film tells the story of a young girl who escapes the horrors of the Spanish Civil War by seeking refuge in a magical world.\\n* **The Others** - A chilling horror film directed by Alejandro Amenábar', 'starring Nicole Kidman as a woman who lives in a darkened old house with her two photosensitive children. They are haunted by mysterious events that unravel a terrifying secret.\\n* **Talk to Her** - Another masterpiece by Alejandro Amenábar', 'this romantic drama explores the connection between two men who both fall in love with women in comas.\\n* **Vicky Cristina Barcelona** - This Woody Allen film starring Scarlett Johansson', 'Penélope Cruz', 'and Javier Bardem follows two American friends on a trip to Barcelona where they encounter a passionate Spanish artist.\\n* **The Skin I Live In** - A psychological thriller directed by Pedro Almodóvar', 'this film follows a brilliant plastic surgeon who seeks revenge on those who wronged him in the past.\\n\\n**TV Series:**\\n\\n* **Money Heist (La Casa de Papel)** - A gripping crime drama about a group of thieves who plan an elaborate heist of the Royal Mint of Spain.\\n* **Elite** - A teen drama set in an exclusive private school', 'exploring themes of wealth', 'privilege', 'and social injustice.  \\n* **The Time in Between** - A historical drama set in the 1930s and 1940s', 'following the story of a young woman caught in the midst of the Spanish Civil War.\\n* **Cable Girls (Las Chicas del Cable)** - A period drama set in 1920s Madrid', 'focusing on the lives of four women working as telephone operators.\\n* **Gran Hotel** - A Spanish period drama set in a grand hotel in the 1900s', 'full of intrigue', 'mystery', \"and romance.\\n\\nThese are just a few of the many great Spanish movies and TV series out there. Let me know if you have any other questions!  \\n\\nHere are some popular Spanish movies and TV series:\\n\\n**Movies:**\\n\\n* **Pan's Labyrinth** - Directed by Guillermo del Toro\", 'this dark fantasy film tells the story of a young girl who escapes the horrors of the Spanish Civil War by seeking refuge in a magical world.\\n* **The Others** - A chilling horror film directed by Alejandro Amenábar', 'starring Nicole Kidman as a woman who lives in a darkened old house with her two photosensitive children. They are haunted by mysterious events that unravel a terrifying secret.\\n* **Talk to Her** - Another masterpiece by Alejandro Amenábar', 'this romantic drama explores the connection between two men who both fall in love with women in comas.\\n* **Vicky Cristina Barcelona** - This Woody Allen film starring Scarlett Johansson', 'Penélope Cruz', 'and Javier Bardem follows two American friends on a trip to Barcelona where they encounter a passionate Spanish artist.\\n* **The Skin I Live In** - A psychological thriller directed by Pedro Almodóvar', 'this film follows a brilliant plastic surgeon who seeks revenge on those who wronged him in the past.\\n\\n**TV Series:**\\n\\n* **Money Heist (La Casa de Papel)** - A gripping crime drama about a group of thieves who plan an elaborate heist of the Royal Mint of Spain.\\n* **Elite** - A teen drama set in an exclusive private school', 'exploring themes of wealth', 'privilege', 'and social injustice.  \\n* **The Time in Between** - A historical drama set in the 1930s and 1940s', 'following the story of a young woman caught in the midst of the Spanish Civil War.\\n* **Cable Girls (Las Chicas del Cable)** - A period drama set in 1920s Madrid', 'focusing on the lives of four women working as telephone operators.\\n* **Gran Hotel** - A Spanish period drama set in a grand hotel in the 1900s', 'full of intrigue', 'mystery', 'and romance.\\n\\nThese are just a few of the many great Spanish movies and TV series out there. Let me know if you have any other questions!']\n"
     ]
    }
   ],
   "source": [
    "print(formatTxtx(exampletext))"
   ]
  },
  {
   "cell_type": "code",
   "execution_count": 6,
   "metadata": {},
   "outputs": [
    {
     "name": "stdout",
     "output_type": "stream",
     "text": [
      "['Movies:', \"Pan's Labyrinth (2006)\", 'The Others (2001)', 'Talk to Her (2002)', 'Vicky Cristina Barcelona (2008)', 'The Skin I Live In (2011)', 'TV Series:', 'Money Heist (La Casa de Papel)', 'Elite', 'The Time in Between', 'Cable Girls (Las Chicas del Cable)', 'Gran Hotel', 'Movies:', \"Pan's Labyrinth (2006)\", 'The Others (2001)', 'Talk to Her (2002)', 'Vicky Cristina Barcelona (2008)', 'The Skin I Live In (2011)', 'TV Series:', 'Money Heist (La Casa de Papel)', 'Elite', 'The Time in Between', 'Cable Girls (Las Chicas del Cable)', 'Gran Hotel']\n"
     ]
    }
   ],
   "source": [
    "bold_texts = re.findall(r\"\\*\\*(.*?)\\*\\*\", exampletext)\n",
    "\n",
    "print(bold_texts)"
   ]
  }
 ],
 "metadata": {
  "kernelspec": {
   "display_name": "Python 3",
   "language": "python",
   "name": "python3"
  },
  "language_info": {
   "codemirror_mode": {
    "name": "ipython",
    "version": 3
   },
   "file_extension": ".py",
   "mimetype": "text/x-python",
   "name": "python",
   "nbconvert_exporter": "python",
   "pygments_lexer": "ipython3",
   "version": "3.11.9"
  }
 },
 "nbformat": 4,
 "nbformat_minor": 2
}
