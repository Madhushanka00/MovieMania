{
 "cells": [
  {
   "cell_type": "code",
   "execution_count": 1,
   "metadata": {},
   "outputs": [],
   "source": [
    "import os\n",
    "import pprint\n",
    "import tempfile\n",
    "\n",
    "from typing import Dict, Text\n",
    "\n",
    "import numpy as np\n",
    "import tensorflow as tf\n",
    "import tensorflow_datasets as tfds"
   ]
  },
  {
   "cell_type": "code",
   "execution_count": 2,
   "metadata": {},
   "outputs": [],
   "source": [
    "path = 'd:/MovieMania/'\n",
    "pathRetrival  = os.path.join(path, \"model\")\n",
    "pathRank = os.path.join(path,\"modelRank\")"
   ]
  },
  {
   "cell_type": "code",
   "execution_count": 3,
   "metadata": {},
   "outputs": [],
   "source": [
    "loaded = tf.saved_model.load(pathRetrival)\n",
    "loadedRank = tf.saved_model.load(pathRank)"
   ]
  },
  {
   "cell_type": "code",
   "execution_count": 4,
   "metadata": {},
   "outputs": [
    {
     "name": "stdout",
     "output_type": "stream",
     "text": [
      "Recommendations: [['Incredible Burt Wonderstone, The (2013)', 'After Earth (2013)', 'Into the Woods (2014)', 'Transporter 3 (2008)', 'Martha Marcy May Marlene (2011)', 'Takers (2010)', 'End of Watch (2012)', '5 Centimeters per Second (Byôsoku 5 senchimêtoru) (2007)', 'Dark Shadows (2012)', 'Commando (1985)', 'Last Airbender, The (2010)', 'Fantastic Four (2015)', 'Predestination (2014)', 'Green Hornet, The (2011)', 'Monsieur Lazhar (2011)', 'Man of Tai Chi (2013)', \"Man Bites Dog (C'est arrivé près de chez vous) (1992)\", 'Presidio, The (1988)', 'San Andreas (2015)', 'Thor: The Dark World (2013)', 'The Jungle Book (2016)', 'Killer Elite (2011)', 'Abraham Lincoln: Vampire Hunter (2012)', 'Twilight Saga: Breaking Dawn - Part 1, The (2011)', 'Hangover Part III, The (2013)', \"Snake in the Eagle's Shadow (Se ying diu sau) (1978)\", 'Alvin and the Chipmunks (2007)', 'Man from Earth, The (2007)', 'Transformers: Age of Extinction (2014)', 'Non-Stop (2014)', 'Sukiyaki Western Django (2008)', 'Hector and the Search for Happiness (2014)', 'Avengers: Infinity War - Part I (2018)', 'Upstream Color (2013)', 'Cops and Robbersons (1994)', \"Mr. Popper's Penguins (2011)\", 'Ant-Man (2015)', 'Barbershop: The Next Cut (2016)', 'Joyful Noise (2012)', 'Doctor Who: Voyage Of The Damned (2007)', 'I Sell the Dead (2008)', 'Brass Teapot, The (2012)', 'Iron Man & Hulk: Heroes United (2013)', 'The Longest Week (2014)', 'Devil in a Blue Dress (1995)', \"Barney's Version (2010)\", 'For a Good Time, Call... (2012)', 'Ned Kelly (2003)', 'Irrational Man (2015)', 'The Face of an Angel (2015)', 'Funny Games U.S. (2007)', 'Ride Along (2014)', 'Date Night (2010)', \"Surf's Up (2007)\", 'Glitter (2001)', 'My Blueberry Nights (2007)', '10 Years (2011)', 'Mayhem (2017)', 'Frequently Asked Questions About Time Travel (2009)', 'Game Plan, The (2007)', \"Blackadder's Christmas Carol (1988)\", \"Ulee's Gold (1997)\", 'Killer Shrews, The (1959)', 'Fences (2016)', 'Green Lantern (2011)', 'Now You See Me (2013)', 'Furious 7 (2015)', 'Land of the Lost (2009)', 'Pawn Sacrifice (2015)', '13 Assassins (Jûsan-nin no shikaku) (2010)', 'Guardians of the Galaxy (2014)', 'Tooth Fairy 2 (2012)', 'Contraband (2012)', 'Begin Again (2013)', 'Wall Street: Money Never Sleeps (2010)', 'Race to Witch Mountain (2009)', 'Beasts of the Southern Wild (2012)', 'Still Walking (Aruitemo aruitemo) (2008)', 'Avengers: Age of Ultron (2015)', 'Miss March (2009)', 'Tree of Life, The (2011)', 'Journey to the Center of the Earth (2008)', 'In the Land of Women (2007)', 'Paterson', 'American Hustle (2013)', 'Paths of Glory (1957)', 'Larry Crowne (2011)', 'Trash Humpers (2009)', 'Hugo (2011)', 'Ex Machina (2015)', 'Elite Squad: The Enemy Within (Tropa de Elite 2 - O Inimigo Agora É Outro) (2010)', \"Angel's Egg (Tenshi no tamago) (1985)\", 'Lone Ranger, The (2013)', 'Perks of Being a Wallflower, The (2012)', 'Asterix: The Land of the Gods (Astérix: Le domaine des dieux) (2014)', \"I'm Not There (2007)\", 'Divergent (2014)', 'Ben-hur (2016)', 'The Raid: Redemption (2011)', 'Mulholland Dr. (1999)']]\n"
     ]
    }
   ],
   "source": [
    "scores, titles = loaded([\"66d9e483d572df24f50d71cb\"],100)\n",
    "# Convert EagerTensor to a Python list\n",
    "movie_list = titles.numpy().tolist()\n",
    "# Decode bytes to strings\n",
    "decoded_list = [[movie.decode('utf-8') for movie in sublist] for sublist in movie_list]\n",
    "\n",
    "print(f\"Recommendations: {decoded_list}\")"
   ]
  },
  {
   "cell_type": "code",
   "execution_count": 9,
   "metadata": {},
   "outputs": [
    {
     "name": "stderr",
     "output_type": "stream",
     "text": [
      "'grep' is not recognized as an internal or external command,\n",
      "operable program or batch file.\n",
      "'grep' is not recognized as an internal or external command,\n",
      "operable program or batch file.\n"
     ]
    }
   ],
   "source": [
    "!pip freeze | grep tensorflow\n",
    "!pip freeze | grep numpy"
   ]
  },
  {
   "cell_type": "code",
   "execution_count": 5,
   "metadata": {},
   "outputs": [
    {
     "data": {
      "text/plain": [
       "[['Incredible Burt Wonderstone, The (2013)',\n",
       "  'After Earth (2013)',\n",
       "  'Into the Woods (2014)',\n",
       "  'Transporter 3 (2008)',\n",
       "  'Martha Marcy May Marlene (2011)',\n",
       "  'Takers (2010)',\n",
       "  'End of Watch (2012)',\n",
       "  '5 Centimeters per Second (Byôsoku 5 senchimêtoru) (2007)',\n",
       "  'Dark Shadows (2012)',\n",
       "  'Commando (1985)',\n",
       "  'Last Airbender, The (2010)',\n",
       "  'Fantastic Four (2015)',\n",
       "  'Predestination (2014)',\n",
       "  'Green Hornet, The (2011)',\n",
       "  'Monsieur Lazhar (2011)',\n",
       "  'Man of Tai Chi (2013)',\n",
       "  \"Man Bites Dog (C'est arrivé près de chez vous) (1992)\",\n",
       "  'Presidio, The (1988)',\n",
       "  'San Andreas (2015)',\n",
       "  'Thor: The Dark World (2013)',\n",
       "  'The Jungle Book (2016)',\n",
       "  'Killer Elite (2011)',\n",
       "  'Abraham Lincoln: Vampire Hunter (2012)',\n",
       "  'Twilight Saga: Breaking Dawn - Part 1, The (2011)',\n",
       "  'Hangover Part III, The (2013)',\n",
       "  \"Snake in the Eagle's Shadow (Se ying diu sau) (1978)\",\n",
       "  'Alvin and the Chipmunks (2007)',\n",
       "  'Man from Earth, The (2007)',\n",
       "  'Transformers: Age of Extinction (2014)',\n",
       "  'Non-Stop (2014)',\n",
       "  'Sukiyaki Western Django (2008)',\n",
       "  'Hector and the Search for Happiness (2014)',\n",
       "  'Avengers: Infinity War - Part I (2018)',\n",
       "  'Upstream Color (2013)',\n",
       "  'Cops and Robbersons (1994)',\n",
       "  \"Mr. Popper's Penguins (2011)\",\n",
       "  'Ant-Man (2015)',\n",
       "  'Barbershop: The Next Cut (2016)',\n",
       "  'Joyful Noise (2012)',\n",
       "  'Doctor Who: Voyage Of The Damned (2007)',\n",
       "  'I Sell the Dead (2008)',\n",
       "  'Brass Teapot, The (2012)',\n",
       "  'Iron Man & Hulk: Heroes United (2013)',\n",
       "  'The Longest Week (2014)',\n",
       "  'Devil in a Blue Dress (1995)',\n",
       "  \"Barney's Version (2010)\",\n",
       "  'For a Good Time, Call... (2012)',\n",
       "  'Ned Kelly (2003)',\n",
       "  'Irrational Man (2015)',\n",
       "  'The Face of an Angel (2015)',\n",
       "  'Funny Games U.S. (2007)',\n",
       "  'Ride Along (2014)',\n",
       "  'Date Night (2010)',\n",
       "  \"Surf's Up (2007)\",\n",
       "  'Glitter (2001)',\n",
       "  'My Blueberry Nights (2007)',\n",
       "  '10 Years (2011)',\n",
       "  'Mayhem (2017)',\n",
       "  'Frequently Asked Questions About Time Travel (2009)',\n",
       "  'Game Plan, The (2007)',\n",
       "  \"Blackadder's Christmas Carol (1988)\",\n",
       "  \"Ulee's Gold (1997)\",\n",
       "  'Killer Shrews, The (1959)',\n",
       "  'Fences (2016)',\n",
       "  'Green Lantern (2011)',\n",
       "  'Now You See Me (2013)',\n",
       "  'Furious 7 (2015)',\n",
       "  'Land of the Lost (2009)',\n",
       "  'Pawn Sacrifice (2015)',\n",
       "  '13 Assassins (Jûsan-nin no shikaku) (2010)',\n",
       "  'Guardians of the Galaxy (2014)',\n",
       "  'Tooth Fairy 2 (2012)',\n",
       "  'Contraband (2012)',\n",
       "  'Begin Again (2013)',\n",
       "  'Wall Street: Money Never Sleeps (2010)',\n",
       "  'Race to Witch Mountain (2009)',\n",
       "  'Beasts of the Southern Wild (2012)',\n",
       "  'Still Walking (Aruitemo aruitemo) (2008)',\n",
       "  'Avengers: Age of Ultron (2015)',\n",
       "  'Miss March (2009)',\n",
       "  'Tree of Life, The (2011)',\n",
       "  'Journey to the Center of the Earth (2008)',\n",
       "  'In the Land of Women (2007)',\n",
       "  'Paterson',\n",
       "  'American Hustle (2013)',\n",
       "  'Paths of Glory (1957)',\n",
       "  'Larry Crowne (2011)',\n",
       "  'Trash Humpers (2009)',\n",
       "  'Hugo (2011)',\n",
       "  'Ex Machina (2015)',\n",
       "  'Elite Squad: The Enemy Within (Tropa de Elite 2 - O Inimigo Agora É Outro) (2010)',\n",
       "  \"Angel's Egg (Tenshi no tamago) (1985)\",\n",
       "  'Lone Ranger, The (2013)',\n",
       "  'Perks of Being a Wallflower, The (2012)',\n",
       "  'Asterix: The Land of the Gods (Astérix: Le domaine des dieux) (2014)',\n",
       "  \"I'm Not There (2007)\",\n",
       "  'Divergent (2014)',\n",
       "  'Ben-hur (2016)',\n",
       "  'The Raid: Redemption (2011)',\n",
       "  'Mulholland Dr. (1999)']]"
      ]
     },
     "execution_count": 5,
     "metadata": {},
     "output_type": "execute_result"
    }
   ],
   "source": [
    "\n",
    "decoded_list"
   ]
  },
  {
   "cell_type": "code",
   "execution_count": 5,
   "metadata": {},
   "outputs": [
    {
     "name": "stdout",
     "output_type": "stream",
     "text": [
      "[3.7038758]\n"
     ]
    }
   ],
   "source": [
    "temp=loadedRank({\"user_id\": np.array([\"66d9e483d572df24f50d71cb\"]), \"movie_title\": [\"The Jungle Book (2016)\"]}).numpy()\n",
    "print(temp[0])"
   ]
  },
  {
   "cell_type": "code",
   "execution_count": 6,
   "metadata": {},
   "outputs": [],
   "source": [
    "recList = []\n",
    "for title in decoded_list[0]:\n",
    "    rating =loadedRank({\"user_id\": np.array([\"66d9e483d572df24f50d71cb\"]), \"movie_title\": [title]}).numpy()\n",
    "    recList.append([rating[0][0],title])"
   ]
  },
  {
   "cell_type": "code",
   "execution_count": 7,
   "metadata": {},
   "outputs": [],
   "source": [
    "recList.sort(reverse=True)\n"
   ]
  },
  {
   "cell_type": "code",
   "execution_count": 8,
   "metadata": {},
   "outputs": [
    {
     "name": "stdout",
     "output_type": "stream",
     "text": [
      "[[3.7423277, 'Contraband (2012)'], [3.740545, 'Abraham Lincoln: Vampire Hunter (2012)'], [3.739924, 'Guardians of the Galaxy (2014)'], [3.7382722, 'Journey to the Center of the Earth (2008)'], [3.7364836, 'Dark Shadows (2012)'], [3.7197542, 'Paterson'], [3.7177303, 'Ben-hur (2016)'], [3.716093, 'Devil in a Blue Dress (1995)'], [3.7144432, 'Barbershop: The Next Cut (2016)'], [3.7095554, 'After Earth (2013)'], [3.7051659, 'Doctor Who: Voyage Of The Damned (2007)'], [3.7047372, 'Ride Along (2014)'], [3.704344, 'Takers (2010)'], [3.7038758, 'The Jungle Book (2016)'], [3.7028973, 'Beasts of the Southern Wild (2012)'], [3.6968863, 'Ant-Man (2015)'], [3.6967688, 'Hector and the Search for Happiness (2014)'], [3.696484, 'Brass Teapot, The (2012)'], [3.695372, 'I Sell the Dead (2008)'], [3.6938052, 'Incredible Burt Wonderstone, The (2013)'], [3.68541, \"Angel's Egg (Tenshi no tamago) (1985)\"], [3.6853166, 'Asterix: The Land of the Gods (Astérix: Le domaine des dieux) (2014)'], [3.6850038, 'Sukiyaki Western Django (2008)'], [3.684929, 'Predestination (2014)'], [3.6819997, 'San Andreas (2015)'], [3.6814413, 'Upstream Color (2013)'], [3.6805978, 'In the Land of Women (2007)'], [3.6801245, 'Joyful Noise (2012)'], [3.6781805, 'Thor: The Dark World (2013)'], [3.6778402, 'Date Night (2010)'], [3.6765318, 'Presidio, The (1988)'], [3.6762493, 'Twilight Saga: Breaking Dawn - Part 1, The (2011)'], [3.675639, 'End of Watch (2012)'], [3.6740808, 'Monsieur Lazhar (2011)'], [3.673273, 'Irrational Man (2015)'], [3.6731408, 'Hangover Part III, The (2013)'], [3.6728911, \"Blackadder's Christmas Carol (1988)\"], [3.6711643, 'Fences (2016)'], [3.6701581, '5 Centimeters per Second (Byôsoku 5 senchimêtoru) (2007)'], [3.669571, 'Alvin and the Chipmunks (2007)'], [3.6695173, 'For a Good Time, Call... (2012)'], [3.6685953, \"Surf's Up (2007)\"], [3.667881, 'Land of the Lost (2009)'], [3.6678777, 'The Face of an Angel (2015)'], [3.6639605, 'Into the Woods (2014)'], [3.6627471, 'Fantastic Four (2015)'], [3.6622548, 'Mulholland Dr. (1999)'], [3.6622515, 'Ex Machina (2015)'], [3.6614597, 'The Longest Week (2014)'], [3.6611156, 'Now You See Me (2013)'], [3.6606765, 'Miss March (2009)'], [3.660485, 'Cops and Robbersons (1994)'], [3.6593895, 'Race to Witch Mountain (2009)'], [3.659123, 'Divergent (2014)'], [3.6578162, '10 Years (2011)'], [3.6573408, 'Paths of Glory (1957)'], [3.6536808, 'Pawn Sacrifice (2015)'], [3.6530797, \"Ulee's Gold (1997)\"], [3.6524827, 'Commando (1985)'], [3.6523244, 'Still Walking (Aruitemo aruitemo) (2008)'], [3.6510825, 'Funny Games U.S. (2007)'], [3.6505597, 'Avengers: Infinity War - Part I (2018)'], [3.6503305, 'Hugo (2011)'], [3.6501784, 'Iron Man & Hulk: Heroes United (2013)'], [3.6496122, 'Ned Kelly (2003)'], [3.647932, 'Avengers: Age of Ultron (2015)'], [3.6468308, \"Mr. Popper's Penguins (2011)\"], [3.6454606, 'Martha Marcy May Marlene (2011)'], [3.6448276, \"I'm Not There (2007)\"], [3.6425884, 'Non-Stop (2014)'], [3.641676, 'Killer Shrews, The (1959)'], [3.6413426, 'Wall Street: Money Never Sleeps (2010)'], [3.6413264, 'Green Hornet, The (2011)'], [3.6401238, 'Mayhem (2017)'], [3.6391778, 'The Raid: Redemption (2011)'], [3.6390681, 'Lone Ranger, The (2013)'], [3.6388893, 'Elite Squad: The Enemy Within (Tropa de Elite 2 - O Inimigo Agora É Outro) (2010)'], [3.6378968, 'Man of Tai Chi (2013)'], [3.6370814, 'Larry Crowne (2011)'], [3.6366866, 'Glitter (2001)'], [3.6362007, 'Man from Earth, The (2007)'], [3.633375, 'Trash Humpers (2009)'], [3.6307933, \"Snake in the Eagle's Shadow (Se ying diu sau) (1978)\"], [3.6307836, 'Transformers: Age of Extinction (2014)'], [3.6307619, 'Last Airbender, The (2010)'], [3.6306489, 'Perks of Being a Wallflower, The (2012)'], [3.6285393, 'My Blueberry Nights (2007)'], [3.6277673, 'Green Lantern (2011)'], [3.62661, 'Game Plan, The (2007)'], [3.6226661, 'Furious 7 (2015)'], [3.622464, 'Tree of Life, The (2011)'], [3.6212265, \"Barney's Version (2010)\"], [3.6206193, 'Killer Elite (2011)'], [3.615051, 'Tooth Fairy 2 (2012)'], [3.6133645, 'American Hustle (2013)'], [3.6107209, 'Begin Again (2013)'], [3.61053, 'Frequently Asked Questions About Time Travel (2009)'], [3.6023235, 'Transporter 3 (2008)'], [3.601065, \"Man Bites Dog (C'est arrivé près de chez vous) (1992)\"], [3.571843, '13 Assassins (Jûsan-nin no shikaku) (2010)']]\n"
     ]
    }
   ],
   "source": [
    "print(recList)"
   ]
  },
  {
   "cell_type": "code",
   "execution_count": 31,
   "metadata": {},
   "outputs": [],
   "source": [
    "import pandas as pd\n",
    "\n",
    "df = pd.read_csv('data\\movies.csv')\n",
    "de_ids = pd.read_csv('data\\links.csv')"
   ]
  },
  {
   "cell_type": "code",
   "execution_count": 40,
   "metadata": {
    "vscode": {
     "languageId": "ruby"
    }
   },
   "outputs": [
    {
     "name": "stdout",
     "output_type": "stream",
     "text": [
      "77866\n",
      "72331\n",
      "118340\n",
      "88751\n",
      "62213\n",
      "370755\n",
      "271969\n",
      "8512\n",
      "326423\n",
      "82700\n",
      "335209\n",
      "168530\n",
      "22907\n",
      "278927\n",
      "84175\n",
      "102899\n",
      "254375\n",
      "127867\n",
      "21910\n",
      "124459\n"
     ]
    }
   ],
   "source": [
    "top_20 = recList[:20]\n",
    "for item in top_20:\n",
    "    contraband_movie = df[df['title'] == item[1]]\n",
    "    movie_id = contraband_movie['movieId'].values[0]\n",
    "    print(int(de_ids[de_ids['movieId'] == movie_id]['tmdbId'].values[0]))"
   ]
  }
 ],
 "metadata": {
  "kernelspec": {
   "display_name": "Python 3",
   "language": "python",
   "name": "python3"
  },
  "language_info": {
   "codemirror_mode": {
    "name": "ipython",
    "version": 3
   },
   "file_extension": ".py",
   "mimetype": "text/x-python",
   "name": "python",
   "nbconvert_exporter": "python",
   "pygments_lexer": "ipython3",
   "version": "3.11.9"
  }
 },
 "nbformat": 4,
 "nbformat_minor": 2
}
