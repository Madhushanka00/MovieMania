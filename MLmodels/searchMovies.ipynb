{
 "cells": [
  {
   "cell_type": "code",
   "execution_count": 1,
   "metadata": {},
   "outputs": [],
   "source": [
    "import pandas as pd\n",
    "import numpy as np\n",
    "import csv"
   ]
  },
  {
   "cell_type": "code",
   "execution_count": 5,
   "metadata": {},
   "outputs": [
    {
     "data": {
      "text/html": [
       "<div>\n",
       "<style scoped>\n",
       "    .dataframe tbody tr th:only-of-type {\n",
       "        vertical-align: middle;\n",
       "    }\n",
       "\n",
       "    .dataframe tbody tr th {\n",
       "        vertical-align: top;\n",
       "    }\n",
       "\n",
       "    .dataframe thead th {\n",
       "        text-align: right;\n",
       "    }\n",
       "</style>\n",
       "<table border=\"1\" class=\"dataframe\">\n",
       "  <thead>\n",
       "    <tr style=\"text-align: right;\">\n",
       "      <th></th>\n",
       "      <th>movieId</th>\n",
       "      <th>imdbId</th>\n",
       "      <th>tmdbId</th>\n",
       "    </tr>\n",
       "  </thead>\n",
       "  <tbody>\n",
       "    <tr>\n",
       "      <th>0</th>\n",
       "      <td>1</td>\n",
       "      <td>114709</td>\n",
       "      <td>862.0</td>\n",
       "    </tr>\n",
       "    <tr>\n",
       "      <th>1</th>\n",
       "      <td>2</td>\n",
       "      <td>113497</td>\n",
       "      <td>8844.0</td>\n",
       "    </tr>\n",
       "    <tr>\n",
       "      <th>2</th>\n",
       "      <td>3</td>\n",
       "      <td>113228</td>\n",
       "      <td>15602.0</td>\n",
       "    </tr>\n",
       "    <tr>\n",
       "      <th>3</th>\n",
       "      <td>4</td>\n",
       "      <td>114885</td>\n",
       "      <td>31357.0</td>\n",
       "    </tr>\n",
       "    <tr>\n",
       "      <th>4</th>\n",
       "      <td>5</td>\n",
       "      <td>113041</td>\n",
       "      <td>11862.0</td>\n",
       "    </tr>\n",
       "  </tbody>\n",
       "</table>\n",
       "</div>"
      ],
      "text/plain": [
       "   movieId  imdbId   tmdbId\n",
       "0        1  114709    862.0\n",
       "1        2  113497   8844.0\n",
       "2        3  113228  15602.0\n",
       "3        4  114885  31357.0\n",
       "4        5  113041  11862.0"
      ]
     },
     "execution_count": 5,
     "metadata": {},
     "output_type": "execute_result"
    }
   ],
   "source": [
    "links_df = pd.read_csv('links.csv')\n",
    "movies_df = pd.read_csv('movies.csv')\n",
    "links_df.head()"
   ]
  },
  {
   "cell_type": "code",
   "execution_count": 10,
   "metadata": {},
   "outputs": [
    {
     "data": {
      "text/html": [
       "<div>\n",
       "<style scoped>\n",
       "    .dataframe tbody tr th:only-of-type {\n",
       "        vertical-align: middle;\n",
       "    }\n",
       "\n",
       "    .dataframe tbody tr th {\n",
       "        vertical-align: top;\n",
       "    }\n",
       "\n",
       "    .dataframe thead th {\n",
       "        text-align: right;\n",
       "    }\n",
       "</style>\n",
       "<table border=\"1\" class=\"dataframe\">\n",
       "  <thead>\n",
       "    <tr style=\"text-align: right;\">\n",
       "      <th></th>\n",
       "      <th>movieId</th>\n",
       "      <th>title</th>\n",
       "      <th>genres</th>\n",
       "    </tr>\n",
       "  </thead>\n",
       "  <tbody>\n",
       "    <tr>\n",
       "      <th>4648</th>\n",
       "      <td>6947</td>\n",
       "      <td>Master and Commander: The Far Side of the Worl...</td>\n",
       "      <td>Adventure|Drama|War</td>\n",
       "    </tr>\n",
       "  </tbody>\n",
       "</table>\n",
       "</div>"
      ],
      "text/plain": [
       "      movieId                                              title  \\\n",
       "4648     6947  Master and Commander: The Far Side of the Worl...   \n",
       "\n",
       "                   genres  \n",
       "4648  Adventure|Drama|War  "
      ]
     },
     "execution_count": 10,
     "metadata": {},
     "output_type": "execute_result"
    }
   ],
   "source": [
    "godfather_movies = movies_df[movies_df['title'].str.contains('Master and Commander: The Far Side of the World')]\n",
    "godfather_movies"
   ]
  },
  {
   "cell_type": "code",
   "execution_count": 2,
   "metadata": {},
   "outputs": [],
   "source": [
    "import re"
   ]
  },
  {
   "cell_type": "code",
   "execution_count": 42,
   "metadata": {},
   "outputs": [],
   "source": [
    "def formatTxtx(movie_input):\n",
    "    # Handle input strings by converting them to a common format\n",
    "    if isinstance(movie_input, str):\n",
    "        tempFormatedarr =[]\n",
    "        formatted_movies =[]\n",
    "        # formatted_movies = [re.sub(r'\\s*\\(\\d{4}\\)', '', movie) for movie in movie_input]\n",
    "        # Remove curly braces or brackets if any\n",
    "        movie_input = movie_input.replace(\"{\", \"\").replace(\"}\", \"\")\n",
    "        movie_input = movie_input.replace(\"[\", \"\").replace(\"]\", \"\")\n",
    "        \n",
    "        # Split the string by commas but keep the parentheses together\n",
    "        movies = re.findall(r'\"([^\"]+)\"|\\(([^)]+)\\)', movie_input)\n",
    "        tempFormatedarr = [m[0] if m[0] else m[1] for m in movies]\n",
    "        for item in tempFormatedarr:\n",
    "            formatted_movies.append(re.sub(r'\\s*\\(\\d{4}\\)', '', item))\n",
    "        # Split the string into movie titles\n",
    "        movie_titles = re.split(r',\\s*', movie_input)\n",
    "        \n",
    "        # Remove any leading or trailing quotes\n",
    "        movie_titles = [title.strip('\"') for title in movie_titles]\n",
    "        \n",
    "    elif isinstance(movie_input, list) or isinstance(movie_input, set):\n",
    "        tempFormatedarr =[]\n",
    "        for item in movie_input:\n",
    "        # If it's already a list or set, we just need to format it properly\n",
    "            tempFormatedarr.append(re.sub(r'\\s*\\(\\d{4}\\)', '', item))\n",
    "        # print('already a list or set, we just need to format it properly')\n",
    "        formatted_movies = tempFormatedarr\n",
    "        \n",
    "    else:\n",
    "        raise ValueError(\"Unsupported input type\")\n",
    "    \n",
    "    # formatted_movies = [re.sub(r'\\s*\\(\\d{4}\\)', '', movie) for movie in formatted_movies]\n",
    "\n",
    "    \n",
    "    return formatted_movies"
   ]
  },
  {
   "cell_type": "code",
   "execution_count": 43,
   "metadata": {},
   "outputs": [
    {
     "name": "stdout",
     "output_type": "stream",
     "text": [
      "['The Age of Adaline', 'Pride and Prejudice', 'Atonement', 'The Notebook', 'Shakespeare in Love', 'Outlander', 'The English Patient', 'Titanic', \"The King's Speech\"]\n",
      "['The Shawshank Redemption', 'Life is Beautiful', 'The Green Mile', 'Rudy', \"It's a Wonderful Life\"]\n",
      "['Northanger Abbey', 'The Importance of Being Earnest', 'Emma', 'Sense and Sensibility']\n",
      "['Sense and Sensibility', 'Emma', 'Northanger Abbey', 'The Importance of Being Earnest']\n"
     ]
    }
   ],
   "source": [
    "test1 = '\"The Age of Adaline\", \"Pride and Prejudice\", \"Atonement\", \"The Notebook\", \"Shakespeare in Love\", \"Outlander\", \"The English Patient\", \"Titanic\", \"The King\\'s Speech\"'\n",
    "test2 = '\"The Shawshank Redemption (1994)\", \"Life is Beautiful (1997)\", \"The Green Mile (1999)\", \"Rudy (1993)\", \"It\\'s a Wonderful Life (1946)\"'\n",
    "test3 = {\"Sense and Sensibility (1995)\", \"Emma (2020)\", \"Northanger Abbey (2007)\", \"The Importance of Being Earnest (2002)\"}\n",
    "test4 = [\"Sense and Sensibility (1995)\", \"Emma (2020)\", \"Northanger Abbey (2007)\", \"The Importance of Being Earnest (2002)\"]\n",
    "\n",
    "print(formatTxtx(test1))\n",
    "print(formatTxtx(test2))\n",
    "print(formatTxtx(test3))\n",
    "print(formatTxtx(test4))"
   ]
  },
  {
   "cell_type": "code",
   "execution_count": 22,
   "metadata": {},
   "outputs": [
    {
     "ename": "AttributeError",
     "evalue": "'list' object has no attribute 'replace'",
     "output_type": "error",
     "traceback": [
      "\u001b[1;31m---------------------------------------------------------------------------\u001b[0m",
      "\u001b[1;31mAttributeError\u001b[0m                            Traceback (most recent call last)",
      "Cell \u001b[1;32mIn[22], line 5\u001b[0m\n\u001b[0;32m      2\u001b[0m test4 \u001b[38;5;241m=\u001b[39m [\u001b[38;5;124m\"\u001b[39m\u001b[38;5;124mSense and Sensibility (1995)\u001b[39m\u001b[38;5;124m\"\u001b[39m, \u001b[38;5;124m\"\u001b[39m\u001b[38;5;124mEmma (2020)\u001b[39m\u001b[38;5;124m\"\u001b[39m, \u001b[38;5;124m\"\u001b[39m\u001b[38;5;124mNorthanger Abbey (2007)\u001b[39m\u001b[38;5;124m\"\u001b[39m, \u001b[38;5;124m\"\u001b[39m\u001b[38;5;124mThe Importance of Being Earnest (2002)\u001b[39m\u001b[38;5;124m\"\u001b[39m]\n\u001b[0;32m      3\u001b[0m testsub \u001b[38;5;241m=\u001b[39mtest4\n\u001b[1;32m----> 5\u001b[0m movie_input \u001b[38;5;241m=\u001b[39m \u001b[43mtestsub\u001b[49m\u001b[38;5;241;43m.\u001b[39;49m\u001b[43mreplace\u001b[49m(\u001b[38;5;124m\"\u001b[39m\u001b[38;5;124m{\u001b[39m\u001b[38;5;124m\"\u001b[39m, \u001b[38;5;124m\"\u001b[39m\u001b[38;5;124m\"\u001b[39m)\u001b[38;5;241m.\u001b[39mreplace(\u001b[38;5;124m\"\u001b[39m\u001b[38;5;124m}\u001b[39m\u001b[38;5;124m\"\u001b[39m, \u001b[38;5;124m\"\u001b[39m\u001b[38;5;124m\"\u001b[39m)\n\u001b[0;32m      6\u001b[0m movie_input \u001b[38;5;241m=\u001b[39m testsub\u001b[38;5;241m.\u001b[39mreplace(\u001b[38;5;124m\"\u001b[39m\u001b[38;5;124m[\u001b[39m\u001b[38;5;124m\"\u001b[39m, \u001b[38;5;124m\"\u001b[39m\u001b[38;5;124m\"\u001b[39m)\u001b[38;5;241m.\u001b[39mreplace(\u001b[38;5;124m\"\u001b[39m\u001b[38;5;124m]\u001b[39m\u001b[38;5;124m\"\u001b[39m, \u001b[38;5;124m\"\u001b[39m\u001b[38;5;124m\"\u001b[39m)\n\u001b[0;32m      7\u001b[0m movie_titles \u001b[38;5;241m=\u001b[39m re\u001b[38;5;241m.\u001b[39msplit(\u001b[38;5;124mr\u001b[39m\u001b[38;5;124m'\u001b[39m\u001b[38;5;124m,\u001b[39m\u001b[38;5;124m\\\u001b[39m\u001b[38;5;124ms*\u001b[39m\u001b[38;5;124m'\u001b[39m, testsub)\n",
      "\u001b[1;31mAttributeError\u001b[0m: 'list' object has no attribute 'replace'"
     ]
    }
   ],
   "source": [
    "test1 = '\"The Age of Adaline\", \"Pride and Prejudice\", \"Atonement\", \"The Notebook\", \"Shakespeare in Love\", \"Outlander\", \"The English Patient\", \"Titanic\", \"The King\\'s Speech\"'\n",
    "test4 = [\"Sense and Sensibility (1995)\", \"Emma (2020)\", \"Northanger Abbey (2007)\", \"The Importance of Being Earnest (2002)\"]\n",
    "\n",
    "movie_titles = re.split(r',\\s*', test4)\n",
    "movie_input = test1.replace(\"{\", \"\").replace(\"}\", \"\")\n",
    "movie_input = ovie_input.replace(\"[\", \"\").replace(\"]\", \"\")\n",
    "\n",
    "print(movie_titles)"
   ]
  },
  {
   "cell_type": "code",
   "execution_count": 36,
   "metadata": {},
   "outputs": [
    {
     "name": "stdout",
     "output_type": "stream",
     "text": [
      "Sense and Sensibility\n",
      "Emma\n",
      "Northanger Abbey\n",
      "The Importance of Being Earnest\n"
     ]
    },
    {
     "ename": "TypeError",
     "evalue": "expected string or bytes-like object, got 'list'",
     "output_type": "error",
     "traceback": [
      "\u001b[1;31m---------------------------------------------------------------------------\u001b[0m",
      "\u001b[1;31mTypeError\u001b[0m                                 Traceback (most recent call last)",
      "Cell \u001b[1;32mIn[36], line 5\u001b[0m\n\u001b[0;32m      3\u001b[0m     formatted_movies \u001b[38;5;241m=\u001b[39m re\u001b[38;5;241m.\u001b[39msub(\u001b[38;5;124mr\u001b[39m\u001b[38;5;124m'\u001b[39m\u001b[38;5;124m\\\u001b[39m\u001b[38;5;124ms*\u001b[39m\u001b[38;5;124m\\\u001b[39m\u001b[38;5;124m(\u001b[39m\u001b[38;5;124m\\\u001b[39m\u001b[38;5;124md\u001b[39m\u001b[38;5;132;01m{4}\u001b[39;00m\u001b[38;5;124m\\\u001b[39m\u001b[38;5;124m)\u001b[39m\u001b[38;5;124m'\u001b[39m, \u001b[38;5;124m'\u001b[39m\u001b[38;5;124m'\u001b[39m, item)\n\u001b[0;32m      4\u001b[0m     \u001b[38;5;28mprint\u001b[39m(formatted_movies)\n\u001b[1;32m----> 5\u001b[0m formatted_movies2 \u001b[38;5;241m=\u001b[39m [\u001b[43mre\u001b[49m\u001b[38;5;241;43m.\u001b[39;49m\u001b[43msub\u001b[49m\u001b[43m(\u001b[49m\u001b[38;5;124;43mr\u001b[39;49m\u001b[38;5;124;43m'\u001b[39;49m\u001b[38;5;124;43m\\\u001b[39;49m\u001b[38;5;124;43ms*\u001b[39;49m\u001b[38;5;124;43m\\\u001b[39;49m\u001b[38;5;124;43m(\u001b[39;49m\u001b[38;5;124;43m\\\u001b[39;49m\u001b[38;5;124;43md\u001b[39;49m\u001b[38;5;132;43;01m{4}\u001b[39;49;00m\u001b[38;5;124;43m\\\u001b[39;49m\u001b[38;5;124;43m)\u001b[39;49m\u001b[38;5;124;43m'\u001b[39;49m\u001b[43m,\u001b[49m\u001b[43m \u001b[49m\u001b[38;5;124;43m'\u001b[39;49m\u001b[38;5;124;43m'\u001b[39;49m\u001b[43m,\u001b[49m\u001b[43m \u001b[49m\u001b[43mtest4\u001b[49m\u001b[43m)\u001b[49m]\n\u001b[0;32m      6\u001b[0m \u001b[38;5;28mprint\u001b[39m(formatted_movies2)\n",
      "File \u001b[1;32mC:\\Program Files\\WindowsApps\\PythonSoftwareFoundation.Python.3.11_3.11.2544.0_x64__qbz5n2kfra8p0\\Lib\\re\\__init__.py:185\u001b[0m, in \u001b[0;36msub\u001b[1;34m(pattern, repl, string, count, flags)\u001b[0m\n\u001b[0;32m    178\u001b[0m \u001b[38;5;28;01mdef\u001b[39;00m \u001b[38;5;21msub\u001b[39m(pattern, repl, string, count\u001b[38;5;241m=\u001b[39m\u001b[38;5;241m0\u001b[39m, flags\u001b[38;5;241m=\u001b[39m\u001b[38;5;241m0\u001b[39m):\n\u001b[0;32m    179\u001b[0m \u001b[38;5;250m    \u001b[39m\u001b[38;5;124;03m\"\"\"Return the string obtained by replacing the leftmost\u001b[39;00m\n\u001b[0;32m    180\u001b[0m \u001b[38;5;124;03m    non-overlapping occurrences of the pattern in string by the\u001b[39;00m\n\u001b[0;32m    181\u001b[0m \u001b[38;5;124;03m    replacement repl.  repl can be either a string or a callable;\u001b[39;00m\n\u001b[0;32m    182\u001b[0m \u001b[38;5;124;03m    if a string, backslash escapes in it are processed.  If it is\u001b[39;00m\n\u001b[0;32m    183\u001b[0m \u001b[38;5;124;03m    a callable, it's passed the Match object and must return\u001b[39;00m\n\u001b[0;32m    184\u001b[0m \u001b[38;5;124;03m    a replacement string to be used.\"\"\"\u001b[39;00m\n\u001b[1;32m--> 185\u001b[0m     \u001b[38;5;28;01mreturn\u001b[39;00m \u001b[43m_compile\u001b[49m\u001b[43m(\u001b[49m\u001b[43mpattern\u001b[49m\u001b[43m,\u001b[49m\u001b[43m \u001b[49m\u001b[43mflags\u001b[49m\u001b[43m)\u001b[49m\u001b[38;5;241;43m.\u001b[39;49m\u001b[43msub\u001b[49m\u001b[43m(\u001b[49m\u001b[43mrepl\u001b[49m\u001b[43m,\u001b[49m\u001b[43m \u001b[49m\u001b[43mstring\u001b[49m\u001b[43m,\u001b[49m\u001b[43m \u001b[49m\u001b[43mcount\u001b[49m\u001b[43m)\u001b[49m\n",
      "\u001b[1;31mTypeError\u001b[0m: expected string or bytes-like object, got 'list'"
     ]
    }
   ],
   "source": [
    "test4 = [\"Sense and Sensibility (1995)\", \"Emma (2020)\", \"Northanger Abbey (2007)\", \"The Importance of Being Earnest (2002)\"]\n",
    "for item in test4:\n",
    "    formatted_movies = re.sub(r'\\s*\\(\\d{4}\\)', '', item)\n",
    "    print(formatted_movies)\n",
    "formatted_movies2 = [re.sub(r'\\s*\\(\\d{4}\\)', '', test4)]\n",
    "print(formatted_movies2)"
   ]
  }
 ],
 "metadata": {
  "kernelspec": {
   "display_name": "Python 3",
   "language": "python",
   "name": "python3"
  },
  "language_info": {
   "codemirror_mode": {
    "name": "ipython",
    "version": 3
   },
   "file_extension": ".py",
   "mimetype": "text/x-python",
   "name": "python",
   "nbconvert_exporter": "python",
   "pygments_lexer": "ipython3",
   "version": "3.11.9"
  }
 },
 "nbformat": 4,
 "nbformat_minor": 2
}
