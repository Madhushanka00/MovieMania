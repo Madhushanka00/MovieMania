{
 "cells": [
  {
   "cell_type": "code",
   "execution_count": null,
   "id": "f5065663",
   "metadata": {
    "papermill": {
     "duration": null,
     "end_time": null,
     "exception": null,
     "start_time": null,
     "status": "completed"
    },
    "tags": []
   },
   "outputs": [],
   "source": [
    "print(\"notebook Running\")"
   ]
  }
 ],
 "metadata": {
  "kernelspec": {
   "display_name": "Python 3",
   "language": "python",
   "name": "python3"
  },
  "language_info": {
   "codemirror_mode": {
    "name": "ipython",
    "version": 3
   },
   "file_extension": ".py",
   "mimetype": "text/x-python",
   "name": "python",
   "nbconvert_exporter": "python",
   "pygments_lexer": "ipython3",
   "version": "3.11.9"
  },
  "papermill": {
   "default_parameters": {},
   "duration": 0.068083,
   "end_time": "2024-09-15T14:30:14.624505",
   "environment_variables": {},
   "exception": null,
   "input_path": "/opt/airflow/dags/notebook.ipynb",
   "output_path": "/opt/airflow/dags/output.ipynb",
   "parameters": {},
   "start_time": "2024-09-15T14:30:14.556422",
   "version": "2.6.0"
  }
 },
 "nbformat": 4,
 "nbformat_minor": 5
}