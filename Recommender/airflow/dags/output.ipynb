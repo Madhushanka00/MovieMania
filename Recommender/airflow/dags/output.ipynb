{
 "cells": [
  {
   "cell_type": "code",
   "execution_count": 1,
   "id": "501120c9",
   "metadata": {
    "execution": {
     "iopub.execute_input": "2024-09-15T16:20:21.298548Z",
     "iopub.status.busy": "2024-09-15T16:20:21.298296Z",
     "iopub.status.idle": "2024-09-15T16:20:21.330280Z",
     "shell.execute_reply": "2024-09-15T16:20:21.329190Z"
    },
    "papermill": {
     "duration": 0.041161,
     "end_time": "2024-09-15T16:20:21.332118",
     "exception": false,
     "start_time": "2024-09-15T16:20:21.290957",
     "status": "completed"
    },
    "tags": []
   },
   "outputs": [
    {
     "name": "stdout",
     "output_type": "stream",
     "text": [
      "notebook Running\n"
     ]
    }
   ],
   "source": [
    "print(\"notebook Running\")"
   ]
  }
 ],
 "metadata": {
  "kernelspec": {
   "display_name": "Python 3",
   "language": "python",
   "name": "python3"
  },
  "language_info": {
   "codemirror_mode": {
    "name": "ipython",
    "version": 3
   },
   "file_extension": ".py",
   "mimetype": "text/x-python",
   "name": "python",
   "nbconvert_exporter": "python",
   "pygments_lexer": "ipython3",
   "version": "3.12.5"
  },
  "papermill": {
   "default_parameters": {},
   "duration": 1.745262,
   "end_time": "2024-09-15T16:20:21.453689",
   "environment_variables": {},
   "exception": null,
   "input_path": "/opt/airflow/dags/notebook.ipynb",
   "output_path": "/opt/airflow/dags/output.ipynb",
   "parameters": {},
   "start_time": "2024-09-15T16:20:19.708427",
   "version": "2.6.0"
  }
 },
 "nbformat": 4,
 "nbformat_minor": 5
}